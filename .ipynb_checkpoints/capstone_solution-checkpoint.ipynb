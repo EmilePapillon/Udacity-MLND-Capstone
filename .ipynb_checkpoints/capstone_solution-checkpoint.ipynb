{
 "cells": [
  {
   "cell_type": "code",
   "execution_count": 6,
   "id": "90a907bd",
   "metadata": {},
   "outputs": [
    {
     "name": "stdout",
     "output_type": "stream",
     "text": [
      "bucket: sagemaker-us-west-1-359836831178\n"
     ]
    }
   ],
   "source": [
    "# sagemaker\n",
    "import boto3\n",
    "import sagemaker\n",
    "from sagemaker import get_execution_role\n",
    "%matplotlib inline\n",
    "\n",
    "# SageMaker session and role\n",
    "sagemaker_session = sagemaker.Session()\n",
    "role = sagemaker.get_execution_role()\n",
    "\n",
    "# default S3 bucket\n",
    "bucket = sagemaker_session.default_bucket()\n",
    "print('bucket: {}'.format(bucket))"
   ]
  },
  {
   "cell_type": "code",
   "execution_count": 16,
   "id": "796fda43",
   "metadata": {},
   "outputs": [],
   "source": [
    "# import a PyTorch wrapper\n",
    "from sagemaker.pytorch import PyTorch\n",
    "\n",
    "# specify an output path and hyperparamenters\n",
    "output_path = 's3://{}/{}'.format(bucket, 'deblurr')\n",
    "hyperparameters={\n",
    "        'epochs':3000,\n",
    "        'lr':2e-4,\n",
    "    }\n",
    "\n",
    "# instantiate a pytorch estimator\n",
    "estimator = PyTorch(\n",
    "    'train.py',\n",
    "    role=role,\n",
    "    instance_count=1,\n",
    "    instance_type='ml.p3.8xlarge',\n",
    "    output_path=output_path,\n",
    "    framework_version='1.0',\n",
    "    py_version='py3',\n",
    "    source_dir='source',\n",
    "    hyperparameters=hyperparameters\n",
    ")"
   ]
  },
  {
   "cell_type": "markdown",
   "id": "86448470",
   "metadata": {},
   "source": [
    "## Train the Estimator\n",
    "\n",
    "After instantiating the estimator, we train it with a call to `.fit()`."
   ]
  },
  {
   "cell_type": "code",
   "execution_count": null,
   "id": "1b4b2489",
   "metadata": {},
   "outputs": [
    {
     "name": "stdout",
     "output_type": "stream",
     "text": [
      "2021-05-23 17:26:35 Starting - Starting the training job...\n",
      "2021-05-23 17:26:37 Starting - Launching requested ML instancesProfilerReport-1621790795: InProgress\n",
      "......."
     ]
    }
   ],
   "source": [
    "%%time\n",
    "# train the estimator on S3 training data\n",
    "train_data='s3://{}/Deblurring/Datasets/GoPro/train'.format(bucket)\n",
    "test_data='s3://{}/Deblurring/Datasets/GoPro/test'.format(bucket)\n",
    "estimator.fit({'train': train_data, \n",
    "              'test': test_data})"
   ]
  },
  {
   "cell_type": "code",
   "execution_count": null,
   "id": "84ae665f",
   "metadata": {},
   "outputs": [],
   "source": []
  }
 ],
 "metadata": {
  "kernelspec": {
   "display_name": "conda_pytorch_p36",
   "language": "python",
   "name": "conda_pytorch_p36"
  },
  "language_info": {
   "codemirror_mode": {
    "name": "ipython",
    "version": 3
   },
   "file_extension": ".py",
   "mimetype": "text/x-python",
   "name": "python",
   "nbconvert_exporter": "python",
   "pygments_lexer": "ipython3",
   "version": "3.6.13"
  }
 },
 "nbformat": 4,
 "nbformat_minor": 5
}
